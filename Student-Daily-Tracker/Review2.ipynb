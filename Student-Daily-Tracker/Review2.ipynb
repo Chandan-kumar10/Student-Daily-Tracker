import matplotlib.pyplot as plt
import seaborn as sns

# Data
study_data = {
    "Mon": 4,
    "Tue": 5,
    "Wed": 3,
    "Thu": 6,
    "Fri": 4,
    "Sat": 2,
    "Sun": 1
}

activity_data = {
    "Study": 25,
    "Sleep": 56,
    "Play": 10,
    "Others": 9
}

# --- Bar Chart: Study Hours ---
plt.figure(figsize=(10, 5))
sns.barplot(x=list(study_data.keys()), y=list(study_data.values()), palette="viridis")
plt.title("Study Hours per Day")
plt.xlabel("Day")
plt.ylabel("Hours")
plt.axhline(y=max(study_data.values()), color='red', linestyle='--', label="Max Study Time")
plt.text(3, 6.2, 'Highest on Thu', color='red')
plt.legend()
plt.grid(axis='y', linestyle='--', alpha=0.6)
plt.tight_layout()
plt.show()

# --- Pie Chart: Activity Distribution ---
plt.figure(figsize=(7, 7))
colors = ['#8884d8', '#82ca9d', '#ffc658', '#ff7f7f']
plt.pie(activity_data.values(), labels=activity_data.keys(), autopct='%1.0f%%', startangle=140, colors=colors)
plt.title("Daily Activity Distribution")
plt.tight_layout()
plt.show()
